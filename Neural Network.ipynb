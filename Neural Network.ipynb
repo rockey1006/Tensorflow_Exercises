{
 "cells": [
  {
   "cell_type": "code",
   "execution_count": 7,
   "metadata": {},
   "outputs": [
    {
     "name": "stdout",
     "output_type": "stream",
     "text": [
      "[[3.957578]]\n"
     ]
    }
   ],
   "source": [
    "#前向传播（图3.6）\n",
    "import tensorflow as tf\n",
    "#1.定义神经网络框架：输入，输出，中间结果，参数（权值）\n",
    "x = tf.constant([[0.7,0.9]])#x是一个2*1的矩阵\n",
    "#3*2矩阵：tf.constant(-1.0, shape=[2, 3]) => [[-1. -1. -1.]\n",
    "                                    #[-1. -1. -1.]]\n",
    "#定义参数\n",
    "w1 = tf.Variable(tf.random_normal((2,3),stddev = 1,seed = 1))#随机生成正态3*2矩阵变量参数\n",
    "w2 = tf.Variable(tf.random_normal((3,1),stddev = 1,seed = 1))#1*3矩阵\n",
    "#定义中间结果和输出\n",
    "a = tf.matmul(x,w1)\n",
    "y = tf.matmul(a,w2)\n",
    "\n",
    "#会话启动图\n",
    "sess = tf.Session()\n",
    "#变量需要初始化\n",
    "sess.run(w1.initializer)\n",
    "sess.run(w2.initializer)\n",
    "print(sess.run(y))\n",
    "#tensorboard可视化，需要输入命令tensorboard --logdir logs\n",
    "writer = tf.summary.FileWriter(\"logs/\", sess.graph)\n",
    "#关闭对话\n",
    "sess.close()\n",
    "\n"
   ]
  },
  {
   "cell_type": "code",
   "execution_count": null,
   "metadata": {},
   "outputs": [],
   "source": [
    "import tensorflow as tf\n",
    "from numpy.random import RandomState\n",
    "#反向传播算法步骤：\n",
    "#1.定义batch大小.2.计算前向传播算法得到y。3.计算cost function（y'-y）.\n",
    "#4.根据梯度下降法（需要求出cost对w的偏导），计算反向传播(更新w'=w-l*梯度)。5.更新完w'，然后观察cost，若cost=0,结束。\n",
    "#若cost!=0,但是达到训练次数，结束。若cost!=0,没达到训练次数，下一个batch+1\n",
    "\n",
    "#1.定义batch大小\n",
    "batch_size = 8\n",
    "#2.计算前向传播算法a.\n"
   ]
  },
  {
   "cell_type": "code",
   "execution_count": null,
   "metadata": {},
   "outputs": [],
   "source": []
  }
 ],
 "metadata": {
  "kernelspec": {
   "display_name": "Python 3",
   "language": "python",
   "name": "python3"
  },
  "language_info": {
   "codemirror_mode": {
    "name": "ipython",
    "version": 3
   },
   "file_extension": ".py",
   "mimetype": "text/x-python",
   "name": "python",
   "nbconvert_exporter": "python",
   "pygments_lexer": "ipython3",
   "version": "3.5.6"
  }
 },
 "nbformat": 4,
 "nbformat_minor": 2
}
